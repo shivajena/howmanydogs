{
 "cells": [
  {
   "cell_type": "code",
   "execution_count": null,
   "id": "0f72a3be-a670-420e-b163-319875475744",
   "metadata": {},
   "outputs": [],
   "source": [
    "import altair as alt\n",
    "import pandas as pd\n",
    "from dash import Dash, html\n",
    "\n",
    "# Importing data from csv file\n",
    "df = pd.read_csv"
   ]
  },
  {
   "cell_type": "code",
   "execution_count": null,
   "id": "2cd57160-97ae-4145-b8f8-707b3837380c",
   "metadata": {},
   "outputs": [],
   "source": []
  }
 ],
 "metadata": {
  "kernelspec": {
   "display_name": "Python [conda env:532]",
   "language": "python",
   "name": "conda-env-532-py"
  },
  "language_info": {
   "codemirror_mode": {
    "name": "ipython",
    "version": 3
   },
   "file_extension": ".py",
   "mimetype": "text/x-python",
   "name": "python",
   "nbconvert_exporter": "python",
   "pygments_lexer": "ipython3",
   "version": "3.10.2"
  }
 },
 "nbformat": 4,
 "nbformat_minor": 5
}
